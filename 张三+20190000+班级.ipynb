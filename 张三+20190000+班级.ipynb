{
 "cells": [
  {
   "cell_type": "markdown",
   "metadata": {},
   "source": [
    "# 第一次数值实验\n",
    "\n",
    "* **姓名**：张三\n",
    "* **学号**：201900000\n",
    "* **班级**：信计二班"
   ]
  },
  {
   "cell_type": "markdown",
   "metadata": {},
   "source": [
    "## 一、数学模型"
   ]
  },
  {
   "cell_type": "markdown",
   "metadata": {},
   "source": [
    "考虑如下两点边值问题的数学模型\n",
    "$$\n",
    "\\begin{cases}\n",
    "- u_{xx} = f,\\quad x\\in I \\\\\n",
    "u(a) = \\alpha ,~~~~u(b) =\\beta\n",
    "\\end{cases}\n",
    "$$\n",
    "其中 $I=(a,b)$ ($a<b$), $f$ 为 $\\bar{I}=[a, b]$上的连续函数，$\\alpha$,$\\beta$ 为给定常数."
   ]
  },
  {
   "cell_type": "markdown",
   "metadata": {},
   "source": [
    "## 二、算法设计"
   ]
  },
  {
   "cell_type": "markdown",
   "metadata": {},
   "source": [
    "$$\n",
    "\\boldsymbol A = \n",
    "\\begin{bmatrix}\n",
    "1      & 0      & 0      &\\cdots    &\\cdots    &\\cdots    &0  \\\\\n",
    " -\\frac{1}{h^2} &\\frac{2}{h^2}  & -\\frac{1}{h^2}    &0      &\\cdots    &\\cdots    &\\vdots\\\\\n",
    "0& -\\frac{1}{h^2} & \\frac{2}{h^2} &-\\frac{1}{h^2}   &0        &\\cdots    &\\cdots\\\\\n",
    " \\vdots  &\\ddots   &\\ddots   &\\ddots    &\\ddots    &\\ddots    &\\vdots\\\\ \n",
    " \\vdots  &\\cdots   &0  &-\\frac{1}{h^2} &\\frac{2}{h^2} &-\\frac{1}{h^2} &0\\\\\n",
    " \\vdots  &\\cdots   &\\cdots   &0        &-\\frac{1}{h^2} &\\frac{2}{h^2} &-\\frac{1}{h^2}\\\\\n",
    "0 &\\cdots   &\\cdots   &\\cdots    &0        &0        &1\n",
    "\\end{bmatrix},\\quad\n",
    "\\boldsymbol u =\n",
    "\\begin{bmatrix}\n",
    "u_0  &\\\\ \n",
    "u_1  &\\\\\n",
    "\\vdots& \\\\\n",
    "u_{n-1}&\\\\\n",
    "u_n &\\\\\n",
    "\\end{bmatrix},\\quad\n",
    "\\boldsymbol f =\n",
    "\\begin{bmatrix}\n",
    "\\alpha \\\\\n",
    "f(x_1)\\\\\n",
    "f(x_2)\\\\\n",
    "\\vdots \\\\\n",
    "f(x_{n-1})\\\\\n",
    "\\beta\\\\\n",
    "\\end{bmatrix}\n",
    "$$"
   ]
  },
  {
   "cell_type": "markdown",
   "metadata": {},
   "source": [
    "## 三、程序实现"
   ]
  },
  {
   "cell_type": "code",
   "execution_count": 15,
   "metadata": {},
   "outputs": [
    {
     "data": {
      "image/png": "[encoded data removed]",
      "text/plain": [
       "<Figure size 432x288 with 1 Axes>"
      ]
     },
     "metadata": {
      "needs_background": "light"
     },
     "output_type": "display_data"
    }
   ],
   "source": [
    "import numpy as np\n",
    "from scipy.sparse import csr_matrix,diags\n",
    "from scipy.sparse.linalg import spsolve\n",
    "import matplotlib.pyplot as plt\n",
    "\n",
    "def fd1d(N, f, a, b, ua, ub):\n",
    "    h = (b - a)/N\n",
    "    x = np.linspace(a, b, N+1)\n",
    "    c0 = -1/h/h\n",
    "    c1 = 2/h/h\n",
    "    d0 = np.ones(N+1, dtype=np.float64)\n",
    "    d0[1:-1] = c1\n",
    "    d1 = np.zeros(N, dtype=np.float64)\n",
    "    d1[1:] = c0\n",
    "    d2 = np.zeros(N, dtype=np.float64)\n",
    "    d2[0:-1] = c0\n",
    "    n = N + 1\n",
    "    A = diags([d0, d1, d2],\n",
    "              [0, 1, -1], \n",
    "              shape=(n, n),\n",
    "             format='csr')\n",
    "    F = f(x)\n",
    "    F[0] = ua\n",
    "    F[-1] = ub\n",
    "    uh = spsolve(A, F)\n",
    "    return x, uh\n",
    "\n",
    "def f(x):\n",
    "    pi = np.pi\n",
    "    val = 16*pi**2*np.sin(4*pi*x)\n",
    "    return val\n",
    "\n",
    "def u(x):\n",
    "    pi = np.pi\n",
    "    val = np.sin(4*pi*x)\n",
    "    return val\n",
    "\n",
    "a = 0\n",
    "b = 1\n",
    "ua = u(a)\n",
    "ub = u(b)\n",
    "N = 100\n",
    "x, uh = fd1d(N, f, a, b, ua, ub)\n",
    "\n",
    "plt.plot(x,uh,color='r',marker='o',linestyle='dashed')\n",
    "plt.xlabel('x')\n",
    "plt.ylabel('u')\n",
    "plt.show()"
   ]
  },
  {
   "cell_type": "code",
   "execution_count": null,
   "metadata": {},
   "outputs": [],
   "source": [
    "import numpy as np\n",
    "a = np.ones(4, dtype=np.float64)\n",
    "print(a)\n",
    "x = np.linspace(0, 1, 5)\n",
    "print(x)"
   ]
  },
  {
   "cell_type": "code",
   "execution_count": 7,
   "metadata": {},
   "outputs": [
    {
     "name": "stdout",
     "output_type": "stream",
     "text": [
      "[[1. 0. 1. 0.]\n",
      " [1. 2. 0. 2.]\n",
      " [0. 2. 3. 0.]\n",
      " [0. 0. 3. 4.]]\n"
     ]
    }
   ],
   "source": [
    "from scipy.sparse import csr_matrix,diags\n",
    "diagonals = [[1, 2, 3, 4], [1, 2, 3], [1, 2]]\n",
    "A = diags(diagonals, [0, -1, 2]).toarray()\n",
    "print(A)"
   ]
  },
  {
   "cell_type": "markdown",
   "metadata": {},
   "source": [
    "## 四、数值实验"
   ]
  },
  {
   "cell_type": "markdown",
   "metadata": {},
   "source": [
    "A=\\begin{pmatrix} 0 & 0 & 0 & 10 \\\\ 21 & 0 & 33 & 0 \\\\ 0 & 0 & 3 & 0 \\\\ 12 & 1 & 0 & 4 \\end{pmatrix} "
   ]
  },
  {
   "cell_type": "code",
   "execution_count": null,
   "metadata": {},
   "outputs": [],
   "source": []
  },
  {
   "cell_type": "code",
   "execution_count": null,
   "metadata": {},
   "outputs": [],
   "source": []
  }
 ],
 "metadata": {
  "kernelspec": {
   "display_name": "Python 3",
   "language": "python",
   "name": "python3"
  },
  "language_info": {
   "codemirror_mode": {
    "name": "ipython",
    "version": 3
   },
   "file_extension": ".py",
   "mimetype": "text/x-python",
   "name": "python",
   "nbconvert_exporter": "python",
   "pygments_lexer": "ipython3",
   "version": "3.7.4"
  }
 },
 "nbformat": 4,
 "nbformat_minor": 4
}
